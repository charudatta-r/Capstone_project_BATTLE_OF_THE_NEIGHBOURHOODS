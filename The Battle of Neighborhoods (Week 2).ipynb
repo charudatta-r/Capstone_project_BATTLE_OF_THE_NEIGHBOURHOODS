{
    "cells": [
        {
            "cell_type": "markdown",
            "metadata": {},
            "source": "### Part 2 Web scrapping of Population and Demographics data of New York city from Wikipedia"
        },
        {
            "cell_type": "code",
            "execution_count": 47,
            "metadata": {},
            "outputs": [
                {
                    "name": "stdout",
                    "output_type": "stream",
                    "text": "Requirement already satisfied: beautifulsoup4 in /opt/conda/envs/Python36/lib/python3.6/site-packages (4.7.1)\nRequirement already satisfied: soupsieve>=1.2 in /opt/conda/envs/Python36/lib/python3.6/site-packages (from beautifulsoup4) (1.7.1)\nRequirement already satisfied: lxml in /opt/conda/envs/Python36/lib/python3.6/site-packages (4.3.1)\n"
                }
            ],
            "source": "!pip install beautifulsoup4\n!pip install lxml\nimport requests # library to handle requests\nimport pandas as pd # library for data analsysis\nimport numpy as np # library to handle data in a vectorized manner\nimport random # library for random number generation"
        },
        {
            "cell_type": "markdown",
            "metadata": {},
            "source": "#### A : POPULATION DATA\n\nWeb scrapping of Population data from wikipedia page - https://en.wikipedia.org/wiki/New_York_City\n\n#### Download all the dependencies that is needed."
        },
        {
            "cell_type": "code",
            "execution_count": 4,
            "metadata": {},
            "outputs": [
                {
                    "name": "stdout",
                    "output_type": "stream",
                    "text": "Solving environment: done\n\n## Package Plan ##\n\n  environment location: /opt/conda/envs/Python36\n\n  added / updated specs: \n    - folium=0.5.0\n\n\nThe following packages will be downloaded:\n\n    package                    |            build\n    ---------------------------|-----------------\n    ca-certificates-2020.4.5.2 |       hecda079_0         147 KB  conda-forge\n    vincent-0.4.4              |             py_1          28 KB  conda-forge\n    folium-0.5.0               |             py_0          45 KB  conda-forge\n    branca-0.4.1               |             py_0          26 KB  conda-forge\n    certifi-2020.4.5.2         |   py36h9f0ad1d_0         152 KB  conda-forge\n    openssl-1.1.1g             |       h516909a_0         2.1 MB  conda-forge\n    altair-4.1.0               |             py_1         614 KB  conda-forge\n    python_abi-3.6             |          1_cp36m           4 KB  conda-forge\n    ------------------------------------------------------------\n                                           Total:         3.1 MB\n\nThe following NEW packages will be INSTALLED:\n\n    altair:          4.1.0-py_1        conda-forge\n    branca:          0.4.1-py_0        conda-forge\n    folium:          0.5.0-py_0        conda-forge\n    python_abi:      3.6-1_cp36m       conda-forge\n    vincent:         0.4.4-py_1        conda-forge\n\nThe following packages will be UPDATED:\n\n    ca-certificates: 2020.1.1-0                    --> 2020.4.5.2-hecda079_0     conda-forge\n    certifi:         2020.4.5.1-py36_0             --> 2020.4.5.2-py36h9f0ad1d_0 conda-forge\n    openssl:         1.1.1g-h7b6447c_0             --> 1.1.1g-h516909a_0         conda-forge\n\n\nDownloading and Extracting Packages\nca-certificates-2020 | 147 KB    | ##################################### | 100% \nvincent-0.4.4        | 28 KB     | ##################################### | 100% \nfolium-0.5.0         | 45 KB     | ##################################### | 100% \nbranca-0.4.1         | 26 KB     | ##################################### | 100% \ncertifi-2020.4.5.2   | 152 KB    | ##################################### | 100% \nopenssl-1.1.1g       | 2.1 MB    | ##################################### | 100% \naltair-4.1.0         | 614 KB    | ##################################### | 100% \npython_abi-3.6       | 4 KB      | ##################################### | 100% \nPreparing transaction: done\nVerifying transaction: done\nExecuting transaction: done\nFolium installed\nLibraries imported.\n"
                }
            ],
            "source": "#!conda install -c conda-forge geopy --yes \nfrom geopy.geocoders import Nominatim # module to convert an address into latitude and longitude values\n\n# libraries for displaying images\nfrom IPython.display import Image \nfrom IPython.core.display import HTML \n\n\nfrom IPython.display import display_html\n    \n# tranforming json file into a pandas dataframe library\nfrom pandas.io.json import json_normalize\n\n!conda install -c conda-forge folium=0.5.0 --yes\nimport folium # plotting library\nfrom bs4 import BeautifulSoup\nfrom sklearn.cluster import KMeans\nimport matplotlib.cm as cm\nimport matplotlib.colors as colors\n\nprint('Folium installed')\nprint('Libraries imported.')"
        },
        {
            "cell_type": "code",
            "execution_count": 56,
            "metadata": {},
            "outputs": [],
            "source": "website_url = requests.get('https://en.wikipedia.org/wiki/Demographics_of_New_York_City#Ethnicities_and_enclaves').text\nsoup = BeautifulSoup(website_url,'lxml')\nimport csv\ntable = soup.find('table',{'class':'wikitable sortable'})\n#print(soup.prettify())\n\nheaders = [header.text for header in table.find_all('th')]\n\ntable_rows = table.find_all('tr')        \nrows = []\nfor row in table_rows:\n   td = row.find_all('td')\n   row = [row.text for row in td]\n   rows.append(row)\n\nwith open('POPULATION1.csv', 'w') as f:\n   writer = csv.writer(f)\n   writer.writerow(headers)\n   writer.writerows(row for row in rows if row)"
        },
        {
            "cell_type": "code",
            "execution_count": 28,
            "metadata": {},
            "outputs": [
                {
                    "data": {
                        "text/html": "<div>\n<style scoped>\n    .dataframe tbody tr th:only-of-type {\n        vertical-align: middle;\n    }\n\n    .dataframe tbody tr th {\n        vertical-align: top;\n    }\n\n    .dataframe thead th {\n        text-align: right;\n    }\n</style>\n<table border=\"1\" class=\"dataframe\">\n  <thead>\n    <tr style=\"text-align: right;\">\n      <th></th>\n      <th>New York City's five boroughsvte</th>\n      <th>Jurisdiction</th>\n      <th>Population</th>\n      <th>Density</th>\n      <th>Borough</th>\n    </tr>\n  </thead>\n  <tbody>\n    <tr>\n      <th>0</th>\n      <td>The Bronx\\n</td>\n      <td>\\n  Bronx\\n</td>\n      <td>1,418,207\\n</td>\n      <td>42.10\\n</td>\n      <td>109.04\\n</td>\n    </tr>\n    <tr>\n      <th>1</th>\n      <td>Brooklyn\\n</td>\n      <td>\\n  Kings\\n</td>\n      <td>2,559,903\\n</td>\n      <td>70.82\\n</td>\n      <td>183.42\\n</td>\n    </tr>\n    <tr>\n      <th>2</th>\n      <td>Manhattan\\n</td>\n      <td>\\n  New York\\n</td>\n      <td>1,628,706\\n</td>\n      <td>22.83\\n</td>\n      <td>59.13\\n</td>\n    </tr>\n    <tr>\n      <th>3</th>\n      <td>Queens\\n</td>\n      <td>\\n   Queens\\n</td>\n      <td>2,253,858\\n</td>\n      <td>108.53\\n</td>\n      <td>281.09\\n</td>\n    </tr>\n    <tr>\n      <th>4</th>\n      <td>Staten Island\\n</td>\n      <td>\\n   Richmond\\n</td>\n      <td>476,143\\n</td>\n      <td>58.37\\n</td>\n      <td>151.18\\n</td>\n    </tr>\n    <tr>\n      <th>5</th>\n      <td>City of New York</td>\n      <td>8,336,817</td>\n      <td>842.343</td>\n      <td>783.83</td>\n      <td>27,547</td>\n    </tr>\n    <tr>\n      <th>6</th>\n      <td>State of New York</td>\n      <td>19,453,561</td>\n      <td>1,731.910</td>\n      <td>122,284</td>\n      <td>412</td>\n    </tr>\n    <tr>\n      <th>7</th>\n      <td>Sources:[14] and see individual borough articl...</td>\n      <td>NaN</td>\n      <td>NaN</td>\n      <td>NaN</td>\n      <td>NaN</td>\n    </tr>\n  </tbody>\n</table>\n</div>",
                        "text/plain": "                  New York City's five boroughsvte\\n   Jurisdiction\\n  \\\n0                                        The Bronx\\n      \\n  Bronx\\n   \n1                                         Brooklyn\\n      \\n  Kings\\n   \n2                                        Manhattan\\n   \\n  New York\\n   \n3                                           Queens\\n    \\n   Queens\\n   \n4                                    Staten Island\\n  \\n   Richmond\\n   \n5                                   City of New York        8,336,817   \n6                                  State of New York       19,453,561   \n7  Sources:[14] and see individual borough articl...              NaN   \n\n  Population\\n Density\\n   Borough  \n0  1,418,207\\n   42.10\\n  109.04\\n  \n1  2,559,903\\n   70.82\\n  183.42\\n  \n2  1,628,706\\n   22.83\\n   59.13\\n  \n3  2,253,858\\n  108.53\\n  281.09\\n  \n4    476,143\\n   58.37\\n  151.18\\n  \n5      842.343    783.83    27,547  \n6    1,731.910   122,284       412  \n7          NaN       NaN       NaN  "
                    },
                    "execution_count": 28,
                    "metadata": {},
                    "output_type": "execute_result"
                }
            ],
            "source": "Pop_data=pd.read_csv('POPULATION1.csv')\nPop_data.drop(Pop_data.columns[[3,4,7,8,9,10,11,12,13,14]], axis=1,inplace=True)\nPop_data\n#print('Data downloaded!')"
        },
        {
            "cell_type": "markdown",
            "metadata": {},
            "source": "#### Remove whitespaces and rename columns"
        },
        {
            "cell_type": "code",
            "execution_count": 29,
            "metadata": {},
            "outputs": [
                {
                    "data": {
                        "text/html": "<div>\n<style scoped>\n    .dataframe tbody tr th:only-of-type {\n        vertical-align: middle;\n    }\n\n    .dataframe tbody tr th {\n        vertical-align: top;\n    }\n\n    .dataframe thead th {\n        text-align: right;\n    }\n</style>\n<table border=\"1\" class=\"dataframe\">\n  <thead>\n    <tr style=\"text-align: right;\">\n      <th></th>\n      <th>NewYorkCitysfiveboroughsvte</th>\n      <th>Jurisdiction</th>\n      <th>Population</th>\n      <th>Density</th>\n      <th>persons_sq_mi</th>\n    </tr>\n  </thead>\n  <tbody>\n    <tr>\n      <th>0</th>\n      <td>The Bronx\\n</td>\n      <td>\\n  Bronx\\n</td>\n      <td>1,418,207\\n</td>\n      <td>42.10\\n</td>\n      <td>109.04\\n</td>\n    </tr>\n    <tr>\n      <th>1</th>\n      <td>Brooklyn\\n</td>\n      <td>\\n  Kings\\n</td>\n      <td>2,559,903\\n</td>\n      <td>70.82\\n</td>\n      <td>183.42\\n</td>\n    </tr>\n    <tr>\n      <th>2</th>\n      <td>Manhattan\\n</td>\n      <td>\\n  New York\\n</td>\n      <td>1,628,706\\n</td>\n      <td>22.83\\n</td>\n      <td>59.13\\n</td>\n    </tr>\n    <tr>\n      <th>3</th>\n      <td>Queens\\n</td>\n      <td>\\n   Queens\\n</td>\n      <td>2,253,858\\n</td>\n      <td>108.53\\n</td>\n      <td>281.09\\n</td>\n    </tr>\n    <tr>\n      <th>4</th>\n      <td>Staten Island\\n</td>\n      <td>\\n   Richmond\\n</td>\n      <td>476,143\\n</td>\n      <td>58.37\\n</td>\n      <td>151.18\\n</td>\n    </tr>\n    <tr>\n      <th>5</th>\n      <td>City of New York</td>\n      <td>8,336,817</td>\n      <td>842.343</td>\n      <td>783.83</td>\n      <td>27,547</td>\n    </tr>\n    <tr>\n      <th>6</th>\n      <td>State of New York</td>\n      <td>19,453,561</td>\n      <td>1,731.910</td>\n      <td>122,284</td>\n      <td>412</td>\n    </tr>\n    <tr>\n      <th>7</th>\n      <td>Sources:[14] and see individual borough articl...</td>\n      <td>NaN</td>\n      <td>NaN</td>\n      <td>NaN</td>\n      <td>NaN</td>\n    </tr>\n  </tbody>\n</table>\n</div>",
                        "text/plain": "                       NewYorkCitysfiveboroughsvte\\n   Jurisdiction\\n  \\\n0                                        The Bronx\\n      \\n  Bronx\\n   \n1                                         Brooklyn\\n      \\n  Kings\\n   \n2                                        Manhattan\\n   \\n  New York\\n   \n3                                           Queens\\n    \\n   Queens\\n   \n4                                    Staten Island\\n  \\n   Richmond\\n   \n5                                   City of New York        8,336,817   \n6                                  State of New York       19,453,561   \n7  Sources:[14] and see individual borough articl...              NaN   \n\n  Population\\n Density\\n persons_sq_mi  \n0  1,418,207\\n   42.10\\n      109.04\\n  \n1  2,559,903\\n   70.82\\n      183.42\\n  \n2  1,628,706\\n   22.83\\n       59.13\\n  \n3  2,253,858\\n  108.53\\n      281.09\\n  \n4    476,143\\n   58.37\\n      151.18\\n  \n5      842.343    783.83        27,547  \n6    1,731.910   122,284           412  \n7          NaN       NaN           NaN  "
                    },
                    "execution_count": 29,
                    "metadata": {},
                    "output_type": "execute_result"
                }
            ],
            "source": "Pop_data.columns = Pop_data.columns.str.replace(' ', '')\nPop_data.columns = Pop_data.columns.str.replace('\\'','')\nPop_data.rename(columns={'Borough':'persons_sq_mi'}, inplace=True)\nPop_data"
        },
        {
            "cell_type": "code",
            "execution_count": 30,
            "metadata": {},
            "outputs": [
                {
                    "data": {
                        "text/html": "<div>\n<style scoped>\n    .dataframe tbody tr th:only-of-type {\n        vertical-align: middle;\n    }\n\n    .dataframe tbody tr th {\n        vertical-align: top;\n    }\n\n    .dataframe thead th {\n        text-align: right;\n    }\n</style>\n<table border=\"1\" class=\"dataframe\">\n  <thead>\n    <tr style=\"text-align: right;\">\n      <th></th>\n      <th>Borough</th>\n      <th>County</th>\n      <th>Estimate_2019</th>\n      <th>square_mi</th>\n      <th>persons_sq_mi</th>\n    </tr>\n  </thead>\n  <tbody>\n    <tr>\n      <th>0</th>\n      <td>The Bronx\\n</td>\n      <td>\\n  Bronx\\n</td>\n      <td>1,418,207\\n</td>\n      <td>42.10\\n</td>\n      <td>109.04\\n</td>\n    </tr>\n    <tr>\n      <th>1</th>\n      <td>Brooklyn\\n</td>\n      <td>\\n  Kings\\n</td>\n      <td>2,559,903\\n</td>\n      <td>70.82\\n</td>\n      <td>183.42\\n</td>\n    </tr>\n    <tr>\n      <th>2</th>\n      <td>Manhattan\\n</td>\n      <td>\\n  New York\\n</td>\n      <td>1,628,706\\n</td>\n      <td>22.83\\n</td>\n      <td>59.13\\n</td>\n    </tr>\n    <tr>\n      <th>3</th>\n      <td>Queens\\n</td>\n      <td>\\n   Queens\\n</td>\n      <td>2,253,858\\n</td>\n      <td>108.53\\n</td>\n      <td>281.09\\n</td>\n    </tr>\n    <tr>\n      <th>4</th>\n      <td>Staten Island\\n</td>\n      <td>\\n   Richmond\\n</td>\n      <td>476,143\\n</td>\n      <td>58.37\\n</td>\n      <td>151.18\\n</td>\n    </tr>\n    <tr>\n      <th>5</th>\n      <td>City of New York</td>\n      <td>8,336,817</td>\n      <td>842.343</td>\n      <td>783.83</td>\n      <td>27,547</td>\n    </tr>\n    <tr>\n      <th>6</th>\n      <td>State of New York</td>\n      <td>19,453,561</td>\n      <td>1,731.910</td>\n      <td>122,284</td>\n      <td>412</td>\n    </tr>\n    <tr>\n      <th>7</th>\n      <td>Sources:[14] and see individual borough articl...</td>\n      <td>NaN</td>\n      <td>NaN</td>\n      <td>NaN</td>\n      <td>NaN</td>\n    </tr>\n  </tbody>\n</table>\n</div>",
                        "text/plain": "                                             Borough           County  \\\n0                                        The Bronx\\n      \\n  Bronx\\n   \n1                                         Brooklyn\\n      \\n  Kings\\n   \n2                                        Manhattan\\n   \\n  New York\\n   \n3                                           Queens\\n    \\n   Queens\\n   \n4                                    Staten Island\\n  \\n   Richmond\\n   \n5                                   City of New York        8,336,817   \n6                                  State of New York       19,453,561   \n7  Sources:[14] and see individual borough articl...              NaN   \n\n  Estimate_2019 square_mi persons_sq_mi  \n0   1,418,207\\n   42.10\\n      109.04\\n  \n1   2,559,903\\n   70.82\\n      183.42\\n  \n2   1,628,706\\n   22.83\\n       59.13\\n  \n3   2,253,858\\n  108.53\\n      281.09\\n  \n4     476,143\\n   58.37\\n      151.18\\n  \n5       842.343    783.83        27,547  \n6     1,731.910   122,284           412  \n7           NaN       NaN           NaN  "
                    },
                    "execution_count": 30,
                    "metadata": {},
                    "output_type": "execute_result"
                }
            ],
            "source": "Pop_data.rename(columns = {'NewYorkCitysfiveboroughsvte\\n' : 'Borough',\n                   'Jurisdiction\\n':'County',\n                   'Population\\n':'Estimate_2019', \n                   'Density\\n':'square_mi'}, inplace=True)\nPop_data"
        },
        {
            "cell_type": "markdown",
            "metadata": {},
            "source": "#### Replace newline('\\n') from each string from left and right sides"
        },
        {
            "cell_type": "code",
            "execution_count": 31,
            "metadata": {},
            "outputs": [
                {
                    "data": {
                        "text/html": "<div>\n<style scoped>\n    .dataframe tbody tr th:only-of-type {\n        vertical-align: middle;\n    }\n\n    .dataframe tbody tr th {\n        vertical-align: top;\n    }\n\n    .dataframe thead th {\n        text-align: right;\n    }\n</style>\n<table border=\"1\" class=\"dataframe\">\n  <thead>\n    <tr style=\"text-align: right;\">\n      <th></th>\n      <th>Borough</th>\n      <th>County</th>\n      <th>Estimate_2019</th>\n      <th>square_mi</th>\n      <th>persons_sq_mi</th>\n    </tr>\n  </thead>\n  <tbody>\n    <tr>\n      <th>0</th>\n      <td>The Bronx</td>\n      <td>Bronx</td>\n      <td>1,418,207</td>\n      <td>42.10</td>\n      <td>109.04</td>\n    </tr>\n    <tr>\n      <th>1</th>\n      <td>Brooklyn</td>\n      <td>Kings</td>\n      <td>2,559,903</td>\n      <td>70.82</td>\n      <td>183.42</td>\n    </tr>\n    <tr>\n      <th>2</th>\n      <td>Manhattan</td>\n      <td>New York</td>\n      <td>1,628,706</td>\n      <td>22.83</td>\n      <td>59.13</td>\n    </tr>\n    <tr>\n      <th>3</th>\n      <td>Queens</td>\n      <td>Queens</td>\n      <td>2,253,858</td>\n      <td>108.53</td>\n      <td>281.09</td>\n    </tr>\n    <tr>\n      <th>4</th>\n      <td>Staten Island</td>\n      <td>Richmond</td>\n      <td>476,143</td>\n      <td>58.37</td>\n      <td>151.18</td>\n    </tr>\n    <tr>\n      <th>5</th>\n      <td>City of New York</td>\n      <td>8,336,817</td>\n      <td>842.343</td>\n      <td>783.83</td>\n      <td>27,547</td>\n    </tr>\n    <tr>\n      <th>6</th>\n      <td>State of New York</td>\n      <td>19,453,561</td>\n      <td>1,731.910</td>\n      <td>122,284</td>\n      <td>412</td>\n    </tr>\n    <tr>\n      <th>7</th>\n      <td>Sources:[14] and see individual borough articles</td>\n      <td>NaN</td>\n      <td>NaN</td>\n      <td>NaN</td>\n      <td>NaN</td>\n    </tr>\n  </tbody>\n</table>\n</div>",
                        "text/plain": "                                            Borough       County  \\\n0                                         The Bronx        Bronx   \n1                                          Brooklyn        Kings   \n2                                         Manhattan     New York   \n3                                            Queens       Queens   \n4                                     Staten Island     Richmond   \n5                                  City of New York    8,336,817   \n6                                 State of New York   19,453,561   \n7  Sources:[14] and see individual borough articles          NaN   \n\n  Estimate_2019 square_mi persons_sq_mi  \n0     1,418,207     42.10        109.04  \n1     2,559,903     70.82        183.42  \n2     1,628,706     22.83         59.13  \n3     2,253,858    108.53        281.09  \n4       476,143     58.37        151.18  \n5       842.343    783.83        27,547  \n6     1,731.910   122,284           412  \n7           NaN       NaN           NaN  "
                    },
                    "execution_count": 31,
                    "metadata": {},
                    "output_type": "execute_result"
                }
            ],
            "source": "Pop_data['Borough']=Pop_data['Borough'].replace(to_replace='\\n', value='', regex=True)\nPop_data['County']=Pop_data['County'].replace(to_replace='\\n', value='', regex=True)\nPop_data['Estimate_2019']=Pop_data['Estimate_2019'].replace(to_replace='\\n', value='', regex=True)\nPop_data['square_mi']=Pop_data['square_mi'].replace(to_replace='\\n', value='', regex=True)\nPop_data['persons_sq_mi']=Pop_data['persons_sq_mi'].replace(to_replace='\\n', value='', regex=True)\nPop_data"
        },
        {
            "cell_type": "markdown",
            "metadata": {},
            "source": "#### Shift data in the last two rows"
        },
        {
            "cell_type": "code",
            "execution_count": 33,
            "metadata": {},
            "outputs": [
                {
                    "data": {
                        "text/html": "<div>\n<style scoped>\n    .dataframe tbody tr th:only-of-type {\n        vertical-align: middle;\n    }\n\n    .dataframe tbody tr th {\n        vertical-align: top;\n    }\n\n    .dataframe thead th {\n        text-align: right;\n    }\n</style>\n<table border=\"1\" class=\"dataframe\">\n  <thead>\n    <tr style=\"text-align: right;\">\n      <th></th>\n      <th>Borough</th>\n      <th>County</th>\n      <th>Estimate_2019</th>\n      <th>square_mi</th>\n      <th>persons_sq_mi</th>\n    </tr>\n  </thead>\n  <tbody>\n    <tr>\n      <th>0</th>\n      <td>The Bronx</td>\n      <td>Bronx</td>\n      <td>1,418,207</td>\n      <td>42.10</td>\n      <td>109.04</td>\n    </tr>\n    <tr>\n      <th>1</th>\n      <td>Brooklyn</td>\n      <td>Kings</td>\n      <td>2,559,903</td>\n      <td>70.82</td>\n      <td>183.42</td>\n    </tr>\n    <tr>\n      <th>2</th>\n      <td>Manhattan</td>\n      <td>New York</td>\n      <td>1,628,706</td>\n      <td>22.83</td>\n      <td>59.13</td>\n    </tr>\n    <tr>\n      <th>3</th>\n      <td>Queens</td>\n      <td>Queens</td>\n      <td>2,253,858</td>\n      <td>108.53</td>\n      <td>281.09</td>\n    </tr>\n    <tr>\n      <th>4</th>\n      <td>Staten Island</td>\n      <td>Richmond</td>\n      <td>476,143</td>\n      <td>58.37</td>\n      <td>151.18</td>\n    </tr>\n    <tr>\n      <th>5</th>\n      <td>NaN</td>\n      <td>City of New York</td>\n      <td>8,336,817</td>\n      <td>842.343</td>\n      <td>783.83</td>\n    </tr>\n    <tr>\n      <th>6</th>\n      <td>NaN</td>\n      <td>State of New York</td>\n      <td>19,453,561</td>\n      <td>1,731.910</td>\n      <td>122,284</td>\n    </tr>\n    <tr>\n      <th>7</th>\n      <td>NaN</td>\n      <td>Sources:[14] and see individual borough articles</td>\n      <td>NaN</td>\n      <td>NaN</td>\n      <td>NaN</td>\n    </tr>\n  </tbody>\n</table>\n</div>",
                        "text/plain": "         Borough                                            County  \\\n0      The Bronx                                             Bronx   \n1       Brooklyn                                             Kings   \n2      Manhattan                                          New York   \n3         Queens                                            Queens   \n4  Staten Island                                          Richmond   \n5            NaN                                  City of New York   \n6            NaN                                 State of New York   \n7            NaN  Sources:[14] and see individual borough articles   \n\n  Estimate_2019  square_mi persons_sq_mi  \n0     1,418,207      42.10        109.04  \n1     2,559,903      70.82        183.42  \n2     1,628,706      22.83         59.13  \n3     2,253,858     108.53        281.09  \n4       476,143      58.37        151.18  \n5     8,336,817    842.343        783.83  \n6    19,453,561  1,731.910       122,284  \n7           NaN        NaN           NaN  "
                    },
                    "execution_count": 33,
                    "metadata": {},
                    "output_type": "execute_result"
                }
            ],
            "source": "Pop_data.loc[5:,['square_mi','persons_sq_mi']] = Pop_data.loc[2:,['square_mi','persons_sq_mi']].shift(1,axis=1)\nPop_data.loc[5:,['Estimate_2019','square_mi']] = Pop_data.loc[2:,['Estimate_2019','square_mi']].shift(1,axis=1)\nPop_data.loc[5:,['County','Estimate_2019']] = Pop_data.loc[2:,['County','Estimate_2019']].shift(1,axis=1)\nPop_data.loc[5:,['Borough','County']] = Pop_data.loc[2:,['Borough','County']].shift(1,axis=1)\nPop_data"
        },
        {
            "cell_type": "markdown",
            "metadata": {},
            "source": "#### Remove 'NAN'"
        },
        {
            "cell_type": "code",
            "execution_count": 34,
            "metadata": {},
            "outputs": [
                {
                    "data": {
                        "text/html": "<div>\n<style scoped>\n    .dataframe tbody tr th:only-of-type {\n        vertical-align: middle;\n    }\n\n    .dataframe tbody tr th {\n        vertical-align: top;\n    }\n\n    .dataframe thead th {\n        text-align: right;\n    }\n</style>\n<table border=\"1\" class=\"dataframe\">\n  <thead>\n    <tr style=\"text-align: right;\">\n      <th></th>\n      <th>Borough</th>\n      <th>County</th>\n      <th>Estimate_2019</th>\n      <th>square_mi</th>\n      <th>persons_sq_mi</th>\n    </tr>\n  </thead>\n  <tbody>\n    <tr>\n      <th>0</th>\n      <td>The Bronx</td>\n      <td>Bronx</td>\n      <td>1,418,207</td>\n      <td>42.10</td>\n      <td>109.04</td>\n    </tr>\n    <tr>\n      <th>1</th>\n      <td>Brooklyn</td>\n      <td>Kings</td>\n      <td>2,559,903</td>\n      <td>70.82</td>\n      <td>183.42</td>\n    </tr>\n    <tr>\n      <th>2</th>\n      <td>Manhattan</td>\n      <td>New York</td>\n      <td>1,628,706</td>\n      <td>22.83</td>\n      <td>59.13</td>\n    </tr>\n    <tr>\n      <th>3</th>\n      <td>Queens</td>\n      <td>Queens</td>\n      <td>2,253,858</td>\n      <td>108.53</td>\n      <td>281.09</td>\n    </tr>\n    <tr>\n      <th>4</th>\n      <td>Staten Island</td>\n      <td>Richmond</td>\n      <td>476,143</td>\n      <td>58.37</td>\n      <td>151.18</td>\n    </tr>\n    <tr>\n      <th>5</th>\n      <td></td>\n      <td>City of New York</td>\n      <td>8,336,817</td>\n      <td>842.343</td>\n      <td>783.83</td>\n    </tr>\n    <tr>\n      <th>6</th>\n      <td></td>\n      <td>State of New York</td>\n      <td>19,453,561</td>\n      <td>1,731.910</td>\n      <td>122,284</td>\n    </tr>\n    <tr>\n      <th>7</th>\n      <td></td>\n      <td>Sources:[14] and see individual borough articles</td>\n      <td></td>\n      <td></td>\n      <td></td>\n    </tr>\n  </tbody>\n</table>\n</div>",
                        "text/plain": "         Borough                                            County  \\\n0      The Bronx                                             Bronx   \n1       Brooklyn                                             Kings   \n2      Manhattan                                          New York   \n3         Queens                                            Queens   \n4  Staten Island                                          Richmond   \n5                                                 City of New York   \n6                                                State of New York   \n7                 Sources:[14] and see individual borough articles   \n\n  Estimate_2019  square_mi persons_sq_mi  \n0     1,418,207      42.10        109.04  \n1     2,559,903      70.82        183.42  \n2     1,628,706      22.83         59.13  \n3     2,253,858     108.53        281.09  \n4       476,143      58.37        151.18  \n5     8,336,817    842.343        783.83  \n6    19,453,561  1,731.910       122,284  \n7                                         "
                    },
                    "execution_count": 34,
                    "metadata": {},
                    "output_type": "execute_result"
                }
            ],
            "source": "Pop_data = Pop_data.fillna('')\nPop_data"
        },
        {
            "cell_type": "markdown",
            "metadata": {},
            "source": "#### Drop the last row"
        },
        {
            "cell_type": "code",
            "execution_count": 36,
            "metadata": {},
            "outputs": [
                {
                    "data": {
                        "text/html": "<div>\n<style scoped>\n    .dataframe tbody tr th:only-of-type {\n        vertical-align: middle;\n    }\n\n    .dataframe tbody tr th {\n        vertical-align: top;\n    }\n\n    .dataframe thead th {\n        text-align: right;\n    }\n</style>\n<table border=\"1\" class=\"dataframe\">\n  <thead>\n    <tr style=\"text-align: right;\">\n      <th></th>\n      <th>Borough</th>\n      <th>County</th>\n      <th>Estimate_2019</th>\n      <th>square_mi</th>\n      <th>persons_sq_mi</th>\n    </tr>\n  </thead>\n  <tbody>\n    <tr>\n      <th>0</th>\n      <td>The Bronx</td>\n      <td>Bronx</td>\n      <td>1,418,207</td>\n      <td>42.10</td>\n      <td>109.04</td>\n    </tr>\n    <tr>\n      <th>1</th>\n      <td>Brooklyn</td>\n      <td>Kings</td>\n      <td>2,559,903</td>\n      <td>70.82</td>\n      <td>183.42</td>\n    </tr>\n    <tr>\n      <th>2</th>\n      <td>Manhattan</td>\n      <td>New York</td>\n      <td>1,628,706</td>\n      <td>22.83</td>\n      <td>59.13</td>\n    </tr>\n    <tr>\n      <th>3</th>\n      <td>Queens</td>\n      <td>Queens</td>\n      <td>2,253,858</td>\n      <td>108.53</td>\n      <td>281.09</td>\n    </tr>\n    <tr>\n      <th>4</th>\n      <td>Staten Island</td>\n      <td>Richmond</td>\n      <td>476,143</td>\n      <td>58.37</td>\n      <td>151.18</td>\n    </tr>\n    <tr>\n      <th>5</th>\n      <td></td>\n      <td>City of New York</td>\n      <td>8,336,817</td>\n      <td>842.343</td>\n      <td>783.83</td>\n    </tr>\n    <tr>\n      <th>6</th>\n      <td></td>\n      <td>State of New York</td>\n      <td>19,453,561</td>\n      <td>1,731.910</td>\n      <td>122,284</td>\n    </tr>\n  </tbody>\n</table>\n</div>",
                        "text/plain": "         Borough             County Estimate_2019  square_mi persons_sq_mi\n0      The Bronx              Bronx     1,418,207      42.10        109.04\n1       Brooklyn              Kings     2,559,903      70.82        183.42\n2      Manhattan           New York     1,628,706      22.83         59.13\n3         Queens             Queens     2,253,858     108.53        281.09\n4  Staten Island           Richmond       476,143      58.37        151.18\n5                  City of New York     8,336,817    842.343        783.83\n6                 State of New York    19,453,561  1,731.910       122,284"
                    },
                    "execution_count": 36,
                    "metadata": {},
                    "output_type": "execute_result"
                }
            ],
            "source": "i = Pop_data[((Pop_data.County == 'Sources:[14] and see individual borough articles'))].index\nPop_data.drop(i)"
        },
        {
            "cell_type": "markdown",
            "metadata": {},
            "source": "#### Save dataframe as csv file"
        },
        {
            "cell_type": "code",
            "execution_count": 37,
            "metadata": {},
            "outputs": [],
            "source": "Pop_data.to_csv('POPULATION.csv',index=False)"
        },
        {
            "cell_type": "markdown",
            "metadata": {},
            "source": "#### B : DEMOGRAPHICS DATA\n\nWe will web scrap Demographics data from wikipedia page - https://en.wikipedia.org/wiki/New_York_City"
        },
        {
            "cell_type": "markdown",
            "metadata": {},
            "source": "#### Web scrapping of Demographics data from wikipedia page using BeautifulSoup.\n\nBeautiful Soup is a Python package for parsing HTML and XML documents (including having malformed markup, i.e. non-closed tags, so named after tag soup). It creates a parse tree for parsed pages that can be used to extract data from HTML, which is useful for web scraping."
        },
        {
            "cell_type": "code",
            "execution_count": 6,
            "metadata": {},
            "outputs": [],
            "source": "website_url = requests.get('https://en.wikipedia.org/wiki/Demographic_history_of_New_York_City').text\nsoup = BeautifulSoup(website_url,'lxml')\ntable = soup.find('table',{'class':'wikitable'})\n#print(soup.prettify())\nimport csv\nheaders = [header.text for header in table.find_all('th')]\n\ntable_rows = table.find_all('tr')        \nrows = []\nfor row in table_rows:\n   td = row.find_all('td')\n   row = [row.text for row in td]\n   rows.append(row)\n\nwith open('DEMO.csv', 'w') as f:\n   writer = csv.writer(f)\n   writer.writerow(headers)\n   writer.writerows(row for row in rows if row)"
        },
        {
            "cell_type": "markdown",
            "metadata": {},
            "source": "#### Load data from CSV"
        },
        {
            "cell_type": "code",
            "execution_count": 30,
            "metadata": {},
            "outputs": [
                {
                    "name": "stdout",
                    "output_type": "stream",
                    "text": "Data downloaded!\n"
                }
            ],
            "source": "Demo_data=pd.read_csv('DEMO.csv')\nprint('Data downloaded!')"
        },
        {
            "cell_type": "code",
            "execution_count": 31,
            "metadata": {},
            "outputs": [
                {
                    "data": {
                        "text/html": "<div>\n<style scoped>\n    .dataframe tbody tr th:only-of-type {\n        vertical-align: middle;\n    }\n\n    .dataframe tbody tr th {\n        vertical-align: top;\n    }\n\n    .dataframe thead th {\n        text-align: right;\n    }\n</style>\n<table border=\"1\" class=\"dataframe\">\n  <thead>\n    <tr style=\"text-align: right;\">\n      <th></th>\n      <th>Year</th>\n      <th>Population</th>\n      <th>White(includes White Hispanics)</th>\n      <th>%W</th>\n      <th>Non-Hispanic Whites</th>\n      <th>%ANG</th>\n      <th>Black</th>\n      <th>%B</th>\n      <th>Asian</th>\n      <th>%A</th>\n      <th>Other orMixed</th>\n      <th>%O/M</th>\n      <th>Hispanic/Latino</th>\n      <th>%H/L</th>\n      <th>Foreignborn</th>\n      <th>%FB</th>\n    </tr>\n  </thead>\n  <tbody>\n    <tr>\n      <th>0</th>\n      <td>1900</td>\n      <td>3,437,202</td>\n      <td>3,369,898</td>\n      <td>98.04</td>\n      <td>NaN</td>\n      <td>NaN</td>\n      <td>60,666</td>\n      <td>1.76</td>\n      <td>6,607</td>\n      <td>0.19</td>\n      <td>31</td>\n      <td>0.00</td>\n      <td>NaN</td>\n      <td>NaN</td>\n      <td>1,270,080</td>\n      <td>36.95</td>\n    </tr>\n    <tr>\n      <th>1</th>\n      <td>1910</td>\n      <td>4,766,883</td>\n      <td>4,669,162</td>\n      <td>97.95</td>\n      <td>NaN</td>\n      <td>NaN</td>\n      <td>91,709</td>\n      <td>1.92</td>\n      <td>5,669</td>\n      <td>0.12</td>\n      <td>343</td>\n      <td>0.01</td>\n      <td>NaN</td>\n      <td>NaN</td>\n      <td>1,944,357</td>\n      <td>40.79</td>\n    </tr>\n    <tr>\n      <th>2</th>\n      <td>1920</td>\n      <td>5,620,048</td>\n      <td>5,459,463</td>\n      <td>97.14</td>\n      <td>NaN</td>\n      <td>NaN</td>\n      <td>152,467</td>\n      <td>2.71</td>\n      <td>7,969</td>\n      <td>0.14</td>\n      <td>149</td>\n      <td>0.00</td>\n      <td>NaN</td>\n      <td>NaN</td>\n      <td>2,028,160</td>\n      <td>36.09</td>\n    </tr>\n    <tr>\n      <th>3</th>\n      <td>1930</td>\n      <td>6,930,446</td>\n      <td>6,589,377</td>\n      <td>95.08</td>\n      <td>NaN</td>\n      <td>NaN</td>\n      <td>327,706</td>\n      <td>4.73</td>\n      <td>12,972</td>\n      <td>0.19</td>\n      <td>391</td>\n      <td>0.01</td>\n      <td>NaN</td>\n      <td>NaN</td>\n      <td>2,358,686</td>\n      <td>34.03</td>\n    </tr>\n    <tr>\n      <th>4</th>\n      <td>1940</td>\n      <td>7,454,995</td>\n      <td>6,977,501</td>\n      <td>93.59</td>\n      <td>6,856,586</td>\n      <td>91.97</td>\n      <td>458,444</td>\n      <td>6.15</td>\n      <td>17,986</td>\n      <td>0.24</td>\n      <td>1,064</td>\n      <td>0.01</td>\n      <td>120,915</td>\n      <td>1.62</td>\n      <td>2,138,657</td>\n      <td>28.69</td>\n    </tr>\n    <tr>\n      <th>5</th>\n      <td>1950</td>\n      <td>7,891,957</td>\n      <td>7,116,441</td>\n      <td>90.17</td>\n      <td>NaN</td>\n      <td>NaN</td>\n      <td>747,608</td>\n      <td>9.47</td>\n      <td>21,441</td>\n      <td>0.27</td>\n      <td>6,467</td>\n      <td>0.08</td>\n      <td>NaN</td>\n      <td>NaN</td>\n      <td>1,784,206</td>\n      <td>22.61</td>\n    </tr>\n    <tr>\n      <th>6</th>\n      <td>1960</td>\n      <td>7,781,984</td>\n      <td>6,640,662</td>\n      <td>85.33</td>\n      <td>NaN</td>\n      <td>NaN</td>\n      <td>1,087,931</td>\n      <td>13.98</td>\n      <td>43,103</td>\n      <td>0.55</td>\n      <td>10,288</td>\n      <td>0.13</td>\n      <td>NaN</td>\n      <td>NaN</td>\n      <td>1,558,690</td>\n      <td>20.03</td>\n    </tr>\n    <tr>\n      <th>7</th>\n      <td>1970</td>\n      <td>7,894,862</td>\n      <td>6,048,841</td>\n      <td>76.62</td>\n      <td>4,969,749</td>\n      <td>62.95</td>\n      <td>1,668,115</td>\n      <td>21.13</td>\n      <td>94,499</td>\n      <td>1.20</td>\n      <td>83,407</td>\n      <td>1.06</td>\n      <td>1,278,630</td>\n      <td>16.20</td>\n      <td>1,437,058</td>\n      <td>18.20</td>\n    </tr>\n    <tr>\n      <th>8</th>\n      <td>1980</td>\n      <td>7,071,639</td>\n      <td>4,294,075</td>\n      <td>60.72</td>\n      <td>3,668,945</td>\n      <td>51.88</td>\n      <td>1,784,337</td>\n      <td>25.23</td>\n      <td>231,501</td>\n      <td>3.27</td>\n      <td>761,762</td>\n      <td>10.77</td>\n      <td>1,406,024</td>\n      <td>19.88</td>\n      <td>1,670,199</td>\n      <td>23.62</td>\n    </tr>\n    <tr>\n      <th>9</th>\n      <td>1990</td>\n      <td>7,322,564</td>\n      <td>3,827,088</td>\n      <td>52.26</td>\n      <td>3,163,125</td>\n      <td>43.20</td>\n      <td>2,102,512</td>\n      <td>28.71</td>\n      <td>512,719</td>\n      <td>7.00</td>\n      <td>880,245</td>\n      <td>12.02</td>\n      <td>1,783,511</td>\n      <td>24.36</td>\n      <td>2,082,931</td>\n      <td>28.45</td>\n    </tr>\n    <tr>\n      <th>10</th>\n      <td>2000</td>\n      <td>8,008,278</td>\n      <td>3,576,385</td>\n      <td>44.66</td>\n      <td>2,801,267</td>\n      <td>34.98</td>\n      <td>2,129,762</td>\n      <td>26.59</td>\n      <td>792,477</td>\n      <td>9.90</td>\n      <td>1,509,654</td>\n      <td>18.85</td>\n      <td>2,160,554</td>\n      <td>26.98</td>\n      <td>2,871,032</td>\n      <td>35.85</td>\n    </tr>\n    <tr>\n      <th>11</th>\n      <td>2010</td>\n      <td>8,175,133</td>\n      <td>3,597,341</td>\n      <td>44.00</td>\n      <td>2,722,904</td>\n      <td>33.31</td>\n      <td>2,088,510</td>\n      <td>25.55</td>\n      <td>1,043,535</td>\n      <td>12.77</td>\n      <td>1,445,747</td>\n      <td>17.68</td>\n      <td>2,336,076</td>\n      <td>28.58</td>\n      <td>3,066,599</td>\n      <td>37.51</td>\n    </tr>\n  </tbody>\n</table>\n</div>",
                        "text/plain": "    Year Population White(includes White Hispanics)     %W  \\\n0   1900  3,437,202                       3,369,898  98.04   \n1   1910  4,766,883                       4,669,162  97.95   \n2   1920  5,620,048                       5,459,463  97.14   \n3   1930  6,930,446                       6,589,377  95.08   \n4   1940  7,454,995                       6,977,501  93.59   \n5   1950  7,891,957                       7,116,441  90.17   \n6   1960  7,781,984                       6,640,662  85.33   \n7   1970  7,894,862                       6,048,841  76.62   \n8   1980  7,071,639                       4,294,075  60.72   \n9   1990  7,322,564                       3,827,088  52.26   \n10  2000  8,008,278                       3,576,385  44.66   \n11  2010  8,175,133                       3,597,341  44.00   \n\n   Non-Hispanic Whites   %ANG      Black     %B      Asian     %A  \\\n0                  NaN    NaN     60,666   1.76      6,607   0.19   \n1                  NaN    NaN     91,709   1.92      5,669   0.12   \n2                  NaN    NaN    152,467   2.71      7,969   0.14   \n3                  NaN    NaN    327,706   4.73     12,972   0.19   \n4            6,856,586  91.97    458,444   6.15     17,986   0.24   \n5                  NaN    NaN    747,608   9.47     21,441   0.27   \n6                  NaN    NaN  1,087,931  13.98     43,103   0.55   \n7            4,969,749  62.95  1,668,115  21.13     94,499   1.20   \n8            3,668,945  51.88  1,784,337  25.23    231,501   3.27   \n9            3,163,125  43.20  2,102,512  28.71    512,719   7.00   \n10           2,801,267  34.98  2,129,762  26.59    792,477   9.90   \n11           2,722,904  33.31  2,088,510  25.55  1,043,535  12.77   \n\n   Other orMixed   %O/M Hispanic/Latino   %H/L Foreignborn  %FB\\n  \n0             31   0.00             NaN    NaN   1,270,080  36.95  \n1            343   0.01             NaN    NaN   1,944,357  40.79  \n2            149   0.00             NaN    NaN   2,028,160  36.09  \n3            391   0.01             NaN    NaN   2,358,686  34.03  \n4          1,064   0.01         120,915   1.62   2,138,657  28.69  \n5          6,467   0.08             NaN    NaN   1,784,206  22.61  \n6         10,288   0.13             NaN    NaN   1,558,690  20.03  \n7         83,407   1.06       1,278,630  16.20   1,437,058  18.20  \n8        761,762  10.77       1,406,024  19.88   1,670,199  23.62  \n9        880,245  12.02       1,783,511  24.36   2,082,931  28.45  \n10     1,509,654  18.85       2,160,554  26.98   2,871,032  35.85  \n11     1,445,747  17.68       2,336,076  28.58   3,066,599  37.51  "
                    },
                    "execution_count": 31,
                    "metadata": {},
                    "output_type": "execute_result"
                }
            ],
            "source": "Demo_data"
        },
        {
            "cell_type": "code",
            "execution_count": 32,
            "metadata": {},
            "outputs": [],
            "source": "Demo_data.to_csv('DEMOGRAPHICS.csv',index=False)"
        },
        {
            "cell_type": "code",
            "execution_count": 33,
            "metadata": {},
            "outputs": [
                {
                    "data": {
                        "text/html": "<div>\n<style scoped>\n    .dataframe tbody tr th:only-of-type {\n        vertical-align: middle;\n    }\n\n    .dataframe tbody tr th {\n        vertical-align: top;\n    }\n\n    .dataframe thead th {\n        text-align: right;\n    }\n</style>\n<table border=\"1\" class=\"dataframe\">\n  <thead>\n    <tr style=\"text-align: right;\">\n      <th></th>\n      <th>Year</th>\n      <th>Population</th>\n      <th>White(includes White Hispanics)</th>\n      <th>%W</th>\n      <th>Non-Hispanic Whites</th>\n      <th>%ANG</th>\n      <th>Black</th>\n      <th>%B</th>\n      <th>Asian</th>\n      <th>%A</th>\n      <th>Other orMixed</th>\n      <th>%O/M</th>\n      <th>Hispanic/Latino</th>\n      <th>%H/L</th>\n      <th>Foreignborn</th>\n      <th>%FB</th>\n    </tr>\n  </thead>\n  <tbody>\n    <tr>\n      <th>10</th>\n      <td>2000</td>\n      <td>8,008,278</td>\n      <td>3,576,385</td>\n      <td>44.66</td>\n      <td>2,801,267</td>\n      <td>34.98</td>\n      <td>2,129,762</td>\n      <td>26.59</td>\n      <td>792,477</td>\n      <td>9.90</td>\n      <td>1,509,654</td>\n      <td>18.85</td>\n      <td>2,160,554</td>\n      <td>26.98</td>\n      <td>2,871,032</td>\n      <td>35.85</td>\n    </tr>\n    <tr>\n      <th>11</th>\n      <td>2010</td>\n      <td>8,175,133</td>\n      <td>3,597,341</td>\n      <td>44.00</td>\n      <td>2,722,904</td>\n      <td>33.31</td>\n      <td>2,088,510</td>\n      <td>25.55</td>\n      <td>1,043,535</td>\n      <td>12.77</td>\n      <td>1,445,747</td>\n      <td>17.68</td>\n      <td>2,336,076</td>\n      <td>28.58</td>\n      <td>3,066,599</td>\n      <td>37.51</td>\n    </tr>\n  </tbody>\n</table>\n</div>",
                        "text/plain": "    Year Population White(includes White Hispanics)     %W  \\\n10  2000  8,008,278                       3,576,385  44.66   \n11  2010  8,175,133                       3,597,341  44.00   \n\n   Non-Hispanic Whites   %ANG      Black     %B      Asian     %A  \\\n10           2,801,267  34.98  2,129,762  26.59    792,477   9.90   \n11           2,722,904  33.31  2,088,510  25.55  1,043,535  12.77   \n\n   Other orMixed   %O/M Hispanic/Latino   %H/L Foreignborn  %FB\\n  \n10     1,509,654  18.85       2,160,554  26.98   2,871,032  35.85  \n11     1,445,747  17.68       2,336,076  28.58   3,066,599  37.51  "
                    },
                    "execution_count": 33,
                    "metadata": {},
                    "output_type": "execute_result"
                }
            ],
            "source": "Demo_data=Demo_data.iloc[10:,]\nDemo_data"
        },
        {
            "cell_type": "code",
            "execution_count": 34,
            "metadata": {},
            "outputs": [
                {
                    "data": {
                        "text/plain": "(2, 16)"
                    },
                    "execution_count": 34,
                    "metadata": {},
                    "output_type": "execute_result"
                }
            ],
            "source": "Demo_data.shape"
        },
        {
            "cell_type": "code",
            "execution_count": 35,
            "metadata": {},
            "outputs": [
                {
                    "data": {
                        "text/html": "<div>\n<style scoped>\n    .dataframe tbody tr th:only-of-type {\n        vertical-align: middle;\n    }\n\n    .dataframe tbody tr th {\n        vertical-align: top;\n    }\n\n    .dataframe thead th {\n        text-align: right;\n    }\n</style>\n<table border=\"1\" class=\"dataframe\">\n  <thead>\n    <tr style=\"text-align: right;\">\n      <th></th>\n      <th>Year</th>\n      <th>Population</th>\n      <th>%W</th>\n      <th>%ANG</th>\n      <th>%B</th>\n      <th>%A</th>\n      <th>%O/M</th>\n      <th>%H/L</th>\n      <th>%FB</th>\n    </tr>\n  </thead>\n  <tbody>\n    <tr>\n      <th>10</th>\n      <td>2000</td>\n      <td>8,008,278</td>\n      <td>44.66</td>\n      <td>34.98</td>\n      <td>26.59</td>\n      <td>9.90</td>\n      <td>18.85</td>\n      <td>26.98</td>\n      <td>35.85</td>\n    </tr>\n    <tr>\n      <th>11</th>\n      <td>2010</td>\n      <td>8,175,133</td>\n      <td>44.00</td>\n      <td>33.31</td>\n      <td>25.55</td>\n      <td>12.77</td>\n      <td>17.68</td>\n      <td>28.58</td>\n      <td>37.51</td>\n    </tr>\n  </tbody>\n</table>\n</div>",
                        "text/plain": "    Year Population     %W   %ANG     %B     %A   %O/M   %H/L  %FB\\n\n10  2000  8,008,278  44.66  34.98  26.59   9.90  18.85  26.98  35.85\n11  2010  8,175,133  44.00  33.31  25.55  12.77  17.68  28.58  37.51"
                    },
                    "execution_count": 35,
                    "metadata": {},
                    "output_type": "execute_result"
                }
            ],
            "source": "Demo_data.drop(Demo_data.columns[[2,4,6,8,10,12,14]], axis=1,inplace=True)\nDemo_data"
        },
        {
            "cell_type": "code",
            "execution_count": 44,
            "metadata": {},
            "outputs": [
                {
                    "data": {
                        "text/html": "<div>\n<style scoped>\n    .dataframe tbody tr th:only-of-type {\n        vertical-align: middle;\n    }\n\n    .dataframe tbody tr th {\n        vertical-align: top;\n    }\n\n    .dataframe thead th {\n        text-align: right;\n    }\n</style>\n<table border=\"1\" class=\"dataframe\">\n  <thead>\n    <tr style=\"text-align: right;\">\n      <th></th>\n      <th>Year</th>\n      <th>Population</th>\n      <th>White(includes White Hispanics)%</th>\n      <th>Non-Hispanic Whites %</th>\n      <th>Black %</th>\n      <th>Asian %</th>\n      <th>Other orMixed %</th>\n      <th>Hispanic/Latino %</th>\n      <th>%FB</th>\n    </tr>\n  </thead>\n  <tbody>\n    <tr>\n      <th>10</th>\n      <td>2000</td>\n      <td>8,008,278</td>\n      <td>44.66</td>\n      <td>34.98</td>\n      <td>26.59</td>\n      <td>9.90</td>\n      <td>18.85</td>\n      <td>26.98</td>\n      <td>35.85</td>\n    </tr>\n    <tr>\n      <th>11</th>\n      <td>2010</td>\n      <td>8,175,133</td>\n      <td>44.00</td>\n      <td>33.31</td>\n      <td>25.55</td>\n      <td>12.77</td>\n      <td>17.68</td>\n      <td>28.58</td>\n      <td>37.51</td>\n    </tr>\n  </tbody>\n</table>\n</div>",
                        "text/plain": "    Year Population  White(includes White Hispanics)%  Non-Hispanic Whites %  \\\n10  2000  8,008,278                             44.66                  34.98   \n11  2010  8,175,133                             44.00                  33.31   \n\n    Black %  Asian %  Other orMixed %  Hispanic/Latino %  %FB\\n  \n10    26.59     9.90            18.85              26.98  35.85  \n11    25.55    12.77            17.68              28.58  37.51  "
                    },
                    "execution_count": 44,
                    "metadata": {},
                    "output_type": "execute_result"
                }
            ],
            "source": "Demo_data.rename(columns = {'%W' : 'White(includes White Hispanics)%',\n                   '%ANG':'Non-Hispanic Whites %',\n                   '%B':'Black %', \n                   '%A':'Asian %',\n                   '%O/M':'Other orMixed %',\n                   '%H/L':'Hispanic/Latino %', \n                   '%FB':'Foreignborn %'}, inplace=True)\nDemo_data"
        },
        {
            "cell_type": "code",
            "execution_count": 48,
            "metadata": {},
            "outputs": [
                {
                    "data": {
                        "text/html": "<div>\n<style scoped>\n    .dataframe tbody tr th:only-of-type {\n        vertical-align: middle;\n    }\n\n    .dataframe tbody tr th {\n        vertical-align: top;\n    }\n\n    .dataframe thead th {\n        text-align: right;\n    }\n</style>\n<table border=\"1\" class=\"dataframe\">\n  <thead>\n    <tr style=\"text-align: right;\">\n      <th></th>\n      <th>Year</th>\n      <th>Population</th>\n      <th>White(includes White Hispanics)%</th>\n      <th>Non-Hispanic Whites %</th>\n      <th>Black %</th>\n      <th>Asian %</th>\n      <th>Other orMixed %</th>\n      <th>Hispanic/Latino %</th>\n      <th>%FB</th>\n    </tr>\n  </thead>\n  <tbody>\n    <tr>\n      <th>10</th>\n      <td>2000</td>\n      <td>8,008,278</td>\n      <td>44.66</td>\n      <td>34.98</td>\n      <td>26.59</td>\n      <td>9.90</td>\n      <td>18.85</td>\n      <td>26.98</td>\n      <td>35.85</td>\n    </tr>\n    <tr>\n      <th>11</th>\n      <td>2010</td>\n      <td>8,175,133</td>\n      <td>44.00</td>\n      <td>33.31</td>\n      <td>25.55</td>\n      <td>12.77</td>\n      <td>17.68</td>\n      <td>28.58</td>\n      <td>37.51</td>\n    </tr>\n  </tbody>\n</table>\n</div>",
                        "text/plain": "    Year Population  White(includes White Hispanics)%  Non-Hispanic Whites %  \\\n10  2000  8,008,278                             44.66                  34.98   \n11  2010  8,175,133                             44.00                  33.31   \n\n    Black %  Asian %  Other orMixed %  Hispanic/Latino %  %FB\\n  \n10    26.59     9.90            18.85              26.98  35.85  \n11    25.55    12.77            17.68              28.58  37.51  "
                    },
                    "execution_count": 48,
                    "metadata": {},
                    "output_type": "execute_result"
                }
            ],
            "source": "Demo_data.transpose()\nDemo_data"
        },
        {
            "cell_type": "code",
            "execution_count": 52,
            "metadata": {
                "scrolled": true
            },
            "outputs": [
                {
                    "data": {
                        "text/html": "<div>\n<style scoped>\n    .dataframe tbody tr th:only-of-type {\n        vertical-align: middle;\n    }\n\n    .dataframe tbody tr th {\n        vertical-align: top;\n    }\n\n    .dataframe thead th {\n        text-align: right;\n    }\n</style>\n<table border=\"1\" class=\"dataframe\">\n  <thead>\n    <tr style=\"text-align: right;\">\n      <th></th>\n      <th>Year</th>\n      <th>White(includes White Hispanics)%</th>\n      <th>Non-Hispanic Whites %</th>\n      <th>Black %</th>\n      <th>Asian %</th>\n      <th>Other orMixed %</th>\n      <th>Hispanic/Latino %</th>\n      <th>%FB</th>\n    </tr>\n  </thead>\n  <tbody>\n    <tr>\n      <th>10</th>\n      <td>2000</td>\n      <td>44.66</td>\n      <td>34.98</td>\n      <td>26.59</td>\n      <td>9.90</td>\n      <td>18.85</td>\n      <td>26.98</td>\n      <td>35.85</td>\n    </tr>\n    <tr>\n      <th>11</th>\n      <td>2010</td>\n      <td>44.00</td>\n      <td>33.31</td>\n      <td>25.55</td>\n      <td>12.77</td>\n      <td>17.68</td>\n      <td>28.58</td>\n      <td>37.51</td>\n    </tr>\n  </tbody>\n</table>\n</div>",
                        "text/plain": "    Year  White(includes White Hispanics)%  Non-Hispanic Whites %  Black %  \\\n10  2000                             44.66                  34.98    26.59   \n11  2010                             44.00                  33.31    25.55   \n\n    Asian %  Other orMixed %  Hispanic/Latino %  %FB\\n  \n10     9.90            18.85              26.98  35.85  \n11    12.77            17.68              28.58  37.51  "
                    },
                    "execution_count": 52,
                    "metadata": {},
                    "output_type": "execute_result"
                }
            ],
            "source": "Demo_data.drop(\"Population\", axis=1,inplace=True)\nDemo_data"
        },
        {
            "cell_type": "code",
            "execution_count": 55,
            "metadata": {},
            "outputs": [],
            "source": "Demo_data.to_csv(r'C:\\Users\\crahate\\Desktop\\DEMOGRAPHICS.csv',index=False,header=True)"
        },
        {
            "cell_type": "code",
            "execution_count": null,
            "metadata": {},
            "outputs": [],
            "source": ""
        }
    ],
    "metadata": {
        "kernelspec": {
            "display_name": "Python 3.6",
            "language": "python",
            "name": "python3"
        },
        "language_info": {
            "codemirror_mode": {
                "name": "ipython",
                "version": 3
            },
            "file_extension": ".py",
            "mimetype": "text/x-python",
            "name": "python",
            "nbconvert_exporter": "python",
            "pygments_lexer": "ipython3",
            "version": "3.6.9"
        }
    },
    "nbformat": 4,
    "nbformat_minor": 1
}