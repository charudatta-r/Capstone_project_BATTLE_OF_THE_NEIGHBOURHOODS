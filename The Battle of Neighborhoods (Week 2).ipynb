{
    "cells": [
        {
            "metadata": {},
            "cell_type": "markdown",
            "source": "### Part 2 Web scrapping of Population and Demographics data of New York city from Wikipedia"
        },
        {
            "metadata": {},
            "cell_type": "code",
            "source": "!pip install beautifulsoup4\n!pip install lxml\nimport requests # library to handle requests\nimport pandas as pd # library for data analsysis\nimport numpy as np # library to handle data in a vectorized manner\nimport random # library for random number generation",
            "execution_count": null,
            "outputs": [
                {
                    "output_type": "stream",
                    "text": "Requirement already satisfied: beautifulsoup4 in /opt/conda/envs/Python36/lib/python3.6/site-packages (4.7.1)\r\nRequirement already satisfied: soupsieve>=1.2 in /opt/conda/envs/Python36/lib/python3.6/site-packages (from beautifulsoup4) (1.7.1)\r\n",
                    "name": "stdout"
                }
            ]
        },
        {
            "metadata": {},
            "cell_type": "markdown",
            "source": "#### A : POPULATION DATA\n\nWeb scrapping of Population data from wikipedia page - https://en.wikipedia.org/wiki/New_York_City\n\n#### Download all the dependencies that is needed."
        },
        {
            "metadata": {},
            "cell_type": "code",
            "source": "#!conda install -c conda-forge geopy --yes \nfrom geopy.geocoders import Nominatim # module to convert an address into latitude and longitude values\n\n# libraries for displaying images\nfrom IPython.display import Image \nfrom IPython.core.display import HTML \n\n\nfrom IPython.display import display_html\n    \n# tranforming json file into a pandas dataframe library\nfrom pandas.io.json import json_normalize\n\n!conda install -c conda-forge folium=0.5.0 --yes\nimport folium # plotting library\nfrom bs4 import BeautifulSoup\nfrom sklearn.cluster import KMeans\nimport matplotlib.cm as cm\nimport matplotlib.colors as colors\n\nprint('Folium installed')\nprint('Libraries imported.')",
            "execution_count": 6,
            "outputs": [
                {
                    "output_type": "stream",
                    "text": "Solving environment: done\n\n## Package Plan ##\n\n  environment location: /opt/conda/envs/Python36\n\n  added / updated specs: \n    - folium=0.5.0\n\n\nThe following packages will be downloaded:\n\n    package                    |            build\n    ---------------------------|-----------------\n    ca-certificates-2020.4.5.2 |       hecda079_0         147 KB  conda-forge\n    vincent-0.4.4              |             py_1          28 KB  conda-forge\n    altair-4.1.0               |             py_1         614 KB  conda-forge\n    folium-0.5.0               |             py_0          45 KB  conda-forge\n    branca-0.4.1               |             py_0          26 KB  conda-forge\n    openssl-1.1.1g             |       h516909a_0         2.1 MB  conda-forge\n    python_abi-3.6             |          1_cp36m           4 KB  conda-forge\n    certifi-2020.4.5.2         |   py36h9f0ad1d_0         152 KB  conda-forge\n    ------------------------------------------------------------\n                                           Total:         3.1 MB\n\nThe following NEW packages will be INSTALLED:\n\n    altair:          4.1.0-py_1        conda-forge\n    branca:          0.4.1-py_0        conda-forge\n    folium:          0.5.0-py_0        conda-forge\n    python_abi:      3.6-1_cp36m       conda-forge\n    vincent:         0.4.4-py_1        conda-forge\n\nThe following packages will be UPDATED:\n\n    ca-certificates: 2020.1.1-0                    --> 2020.4.5.2-hecda079_0     conda-forge\n    certifi:         2020.4.5.1-py36_0             --> 2020.4.5.2-py36h9f0ad1d_0 conda-forge\n    openssl:         1.1.1g-h7b6447c_0             --> 1.1.1g-h516909a_0         conda-forge\n\n\nDownloading and Extracting Packages\nca-certificates-2020 | 147 KB    | ##################################### | 100% \nvincent-0.4.4        | 28 KB     | ##################################### | 100% \naltair-4.1.0         | 614 KB    | ##################################### | 100% \nfolium-0.5.0         | 45 KB     | ##################################### | 100% \nbranca-0.4.1         | 26 KB     | ##################################### | 100% \nopenssl-1.1.1g       | 2.1 MB    | ##################################### | 100% \npython_abi-3.6       | 4 KB      | ##################################### | 100% \ncertifi-2020.4.5.2   | 152 KB    | ##################################### | 100% \nPreparing transaction: done\nVerifying transaction: done\nExecuting transaction: done\nFolium installed\nLibraries imported.\n",
                    "name": "stdout"
                }
            ]
        },
        {
            "metadata": {},
            "cell_type": "code",
            "source": "website_url = requests.get('https://en.wikipedia.org/wiki/Demographics_of_New_York_City').text\nsoup = BeautifulSoup(website_url,'lxml')\nimport csv\ntable = soup.find('table',{'class':'wikitable sortable'})\n#print(soup.prettify())\n\nheaders = [header.text for header in table.find_all('th')]\n\ntable_rows = table.find_all('tr')        \nrows = []\nfor row in table_rows:\n   td = row.find_all('td')\n   row = [row.text for row in td]\n   rows.append(row)\n\nwith open('POPULATION1.csv', 'w') as f:\n   writer = csv.writer(f)\n   writer.writerow(headers)\n   writer.writerows(row for row in rows if row)",
            "execution_count": 8,
            "outputs": []
        },
        {
            "metadata": {},
            "cell_type": "code",
            "source": "Pop_data=pd.read_csv('POPULATION1.csv')\nPop_data.drop(Pop_data.columns[[3,4,7,8,9,10,11,12,13,14]], axis=1,inplace=True)\nPop_data\n#print('Data downloaded!')",
            "execution_count": 28,
            "outputs": [
                {
                    "output_type": "execute_result",
                    "execution_count": 28,
                    "data": {
                        "text/plain": "                  New York City's five boroughsvte\\n   Jurisdiction\\n  \\\n0                                        The Bronx\\n      \\n  Bronx\\n   \n1                                         Brooklyn\\n      \\n  Kings\\n   \n2                                        Manhattan\\n   \\n  New York\\n   \n3                                           Queens\\n    \\n   Queens\\n   \n4                                    Staten Island\\n  \\n   Richmond\\n   \n5                                   City of New York        8,336,817   \n6                                  State of New York       19,453,561   \n7  Sources:[14] and see individual borough articl...              NaN   \n\n  Population\\n Density\\n   Borough  \n0  1,418,207\\n   42.10\\n  109.04\\n  \n1  2,559,903\\n   70.82\\n  183.42\\n  \n2  1,628,706\\n   22.83\\n   59.13\\n  \n3  2,253,858\\n  108.53\\n  281.09\\n  \n4    476,143\\n   58.37\\n  151.18\\n  \n5      842.343    783.83    27,547  \n6    1,731.910   122,284       412  \n7          NaN       NaN       NaN  ",
                        "text/html": "<div>\n<style scoped>\n    .dataframe tbody tr th:only-of-type {\n        vertical-align: middle;\n    }\n\n    .dataframe tbody tr th {\n        vertical-align: top;\n    }\n\n    .dataframe thead th {\n        text-align: right;\n    }\n</style>\n<table border=\"1\" class=\"dataframe\">\n  <thead>\n    <tr style=\"text-align: right;\">\n      <th></th>\n      <th>New York City's five boroughsvte</th>\n      <th>Jurisdiction</th>\n      <th>Population</th>\n      <th>Density</th>\n      <th>Borough</th>\n    </tr>\n  </thead>\n  <tbody>\n    <tr>\n      <th>0</th>\n      <td>The Bronx\\n</td>\n      <td>\\n  Bronx\\n</td>\n      <td>1,418,207\\n</td>\n      <td>42.10\\n</td>\n      <td>109.04\\n</td>\n    </tr>\n    <tr>\n      <th>1</th>\n      <td>Brooklyn\\n</td>\n      <td>\\n  Kings\\n</td>\n      <td>2,559,903\\n</td>\n      <td>70.82\\n</td>\n      <td>183.42\\n</td>\n    </tr>\n    <tr>\n      <th>2</th>\n      <td>Manhattan\\n</td>\n      <td>\\n  New York\\n</td>\n      <td>1,628,706\\n</td>\n      <td>22.83\\n</td>\n      <td>59.13\\n</td>\n    </tr>\n    <tr>\n      <th>3</th>\n      <td>Queens\\n</td>\n      <td>\\n   Queens\\n</td>\n      <td>2,253,858\\n</td>\n      <td>108.53\\n</td>\n      <td>281.09\\n</td>\n    </tr>\n    <tr>\n      <th>4</th>\n      <td>Staten Island\\n</td>\n      <td>\\n   Richmond\\n</td>\n      <td>476,143\\n</td>\n      <td>58.37\\n</td>\n      <td>151.18\\n</td>\n    </tr>\n    <tr>\n      <th>5</th>\n      <td>City of New York</td>\n      <td>8,336,817</td>\n      <td>842.343</td>\n      <td>783.83</td>\n      <td>27,547</td>\n    </tr>\n    <tr>\n      <th>6</th>\n      <td>State of New York</td>\n      <td>19,453,561</td>\n      <td>1,731.910</td>\n      <td>122,284</td>\n      <td>412</td>\n    </tr>\n    <tr>\n      <th>7</th>\n      <td>Sources:[14] and see individual borough articl...</td>\n      <td>NaN</td>\n      <td>NaN</td>\n      <td>NaN</td>\n      <td>NaN</td>\n    </tr>\n  </tbody>\n</table>\n</div>"
                    },
                    "metadata": {}
                }
            ]
        },
        {
            "metadata": {},
            "cell_type": "markdown",
            "source": "#### Remove whitespaces and rename columns"
        },
        {
            "metadata": {},
            "cell_type": "code",
            "source": "Pop_data.columns = Pop_data.columns.str.replace(' ', '')\nPop_data.columns = Pop_data.columns.str.replace('\\'','')\nPop_data.rename(columns={'Borough':'persons_sq_mi'}, inplace=True)\nPop_data",
            "execution_count": 29,
            "outputs": [
                {
                    "output_type": "execute_result",
                    "execution_count": 29,
                    "data": {
                        "text/plain": "                       NewYorkCitysfiveboroughsvte\\n   Jurisdiction\\n  \\\n0                                        The Bronx\\n      \\n  Bronx\\n   \n1                                         Brooklyn\\n      \\n  Kings\\n   \n2                                        Manhattan\\n   \\n  New York\\n   \n3                                           Queens\\n    \\n   Queens\\n   \n4                                    Staten Island\\n  \\n   Richmond\\n   \n5                                   City of New York        8,336,817   \n6                                  State of New York       19,453,561   \n7  Sources:[14] and see individual borough articl...              NaN   \n\n  Population\\n Density\\n persons_sq_mi  \n0  1,418,207\\n   42.10\\n      109.04\\n  \n1  2,559,903\\n   70.82\\n      183.42\\n  \n2  1,628,706\\n   22.83\\n       59.13\\n  \n3  2,253,858\\n  108.53\\n      281.09\\n  \n4    476,143\\n   58.37\\n      151.18\\n  \n5      842.343    783.83        27,547  \n6    1,731.910   122,284           412  \n7          NaN       NaN           NaN  ",
                        "text/html": "<div>\n<style scoped>\n    .dataframe tbody tr th:only-of-type {\n        vertical-align: middle;\n    }\n\n    .dataframe tbody tr th {\n        vertical-align: top;\n    }\n\n    .dataframe thead th {\n        text-align: right;\n    }\n</style>\n<table border=\"1\" class=\"dataframe\">\n  <thead>\n    <tr style=\"text-align: right;\">\n      <th></th>\n      <th>NewYorkCitysfiveboroughsvte</th>\n      <th>Jurisdiction</th>\n      <th>Population</th>\n      <th>Density</th>\n      <th>persons_sq_mi</th>\n    </tr>\n  </thead>\n  <tbody>\n    <tr>\n      <th>0</th>\n      <td>The Bronx\\n</td>\n      <td>\\n  Bronx\\n</td>\n      <td>1,418,207\\n</td>\n      <td>42.10\\n</td>\n      <td>109.04\\n</td>\n    </tr>\n    <tr>\n      <th>1</th>\n      <td>Brooklyn\\n</td>\n      <td>\\n  Kings\\n</td>\n      <td>2,559,903\\n</td>\n      <td>70.82\\n</td>\n      <td>183.42\\n</td>\n    </tr>\n    <tr>\n      <th>2</th>\n      <td>Manhattan\\n</td>\n      <td>\\n  New York\\n</td>\n      <td>1,628,706\\n</td>\n      <td>22.83\\n</td>\n      <td>59.13\\n</td>\n    </tr>\n    <tr>\n      <th>3</th>\n      <td>Queens\\n</td>\n      <td>\\n   Queens\\n</td>\n      <td>2,253,858\\n</td>\n      <td>108.53\\n</td>\n      <td>281.09\\n</td>\n    </tr>\n    <tr>\n      <th>4</th>\n      <td>Staten Island\\n</td>\n      <td>\\n   Richmond\\n</td>\n      <td>476,143\\n</td>\n      <td>58.37\\n</td>\n      <td>151.18\\n</td>\n    </tr>\n    <tr>\n      <th>5</th>\n      <td>City of New York</td>\n      <td>8,336,817</td>\n      <td>842.343</td>\n      <td>783.83</td>\n      <td>27,547</td>\n    </tr>\n    <tr>\n      <th>6</th>\n      <td>State of New York</td>\n      <td>19,453,561</td>\n      <td>1,731.910</td>\n      <td>122,284</td>\n      <td>412</td>\n    </tr>\n    <tr>\n      <th>7</th>\n      <td>Sources:[14] and see individual borough articl...</td>\n      <td>NaN</td>\n      <td>NaN</td>\n      <td>NaN</td>\n      <td>NaN</td>\n    </tr>\n  </tbody>\n</table>\n</div>"
                    },
                    "metadata": {}
                }
            ]
        },
        {
            "metadata": {},
            "cell_type": "code",
            "source": "Pop_data.rename(columns = {'NewYorkCitysfiveboroughsvte\\n' : 'Borough',\n                   'Jurisdiction\\n':'County',\n                   'Population\\n':'Estimate_2019', \n                   'Density\\n':'square_mi'}, inplace=True)\nPop_data",
            "execution_count": 30,
            "outputs": [
                {
                    "output_type": "execute_result",
                    "execution_count": 30,
                    "data": {
                        "text/plain": "                                             Borough           County  \\\n0                                        The Bronx\\n      \\n  Bronx\\n   \n1                                         Brooklyn\\n      \\n  Kings\\n   \n2                                        Manhattan\\n   \\n  New York\\n   \n3                                           Queens\\n    \\n   Queens\\n   \n4                                    Staten Island\\n  \\n   Richmond\\n   \n5                                   City of New York        8,336,817   \n6                                  State of New York       19,453,561   \n7  Sources:[14] and see individual borough articl...              NaN   \n\n  Estimate_2019 square_mi persons_sq_mi  \n0   1,418,207\\n   42.10\\n      109.04\\n  \n1   2,559,903\\n   70.82\\n      183.42\\n  \n2   1,628,706\\n   22.83\\n       59.13\\n  \n3   2,253,858\\n  108.53\\n      281.09\\n  \n4     476,143\\n   58.37\\n      151.18\\n  \n5       842.343    783.83        27,547  \n6     1,731.910   122,284           412  \n7           NaN       NaN           NaN  ",
                        "text/html": "<div>\n<style scoped>\n    .dataframe tbody tr th:only-of-type {\n        vertical-align: middle;\n    }\n\n    .dataframe tbody tr th {\n        vertical-align: top;\n    }\n\n    .dataframe thead th {\n        text-align: right;\n    }\n</style>\n<table border=\"1\" class=\"dataframe\">\n  <thead>\n    <tr style=\"text-align: right;\">\n      <th></th>\n      <th>Borough</th>\n      <th>County</th>\n      <th>Estimate_2019</th>\n      <th>square_mi</th>\n      <th>persons_sq_mi</th>\n    </tr>\n  </thead>\n  <tbody>\n    <tr>\n      <th>0</th>\n      <td>The Bronx\\n</td>\n      <td>\\n  Bronx\\n</td>\n      <td>1,418,207\\n</td>\n      <td>42.10\\n</td>\n      <td>109.04\\n</td>\n    </tr>\n    <tr>\n      <th>1</th>\n      <td>Brooklyn\\n</td>\n      <td>\\n  Kings\\n</td>\n      <td>2,559,903\\n</td>\n      <td>70.82\\n</td>\n      <td>183.42\\n</td>\n    </tr>\n    <tr>\n      <th>2</th>\n      <td>Manhattan\\n</td>\n      <td>\\n  New York\\n</td>\n      <td>1,628,706\\n</td>\n      <td>22.83\\n</td>\n      <td>59.13\\n</td>\n    </tr>\n    <tr>\n      <th>3</th>\n      <td>Queens\\n</td>\n      <td>\\n   Queens\\n</td>\n      <td>2,253,858\\n</td>\n      <td>108.53\\n</td>\n      <td>281.09\\n</td>\n    </tr>\n    <tr>\n      <th>4</th>\n      <td>Staten Island\\n</td>\n      <td>\\n   Richmond\\n</td>\n      <td>476,143\\n</td>\n      <td>58.37\\n</td>\n      <td>151.18\\n</td>\n    </tr>\n    <tr>\n      <th>5</th>\n      <td>City of New York</td>\n      <td>8,336,817</td>\n      <td>842.343</td>\n      <td>783.83</td>\n      <td>27,547</td>\n    </tr>\n    <tr>\n      <th>6</th>\n      <td>State of New York</td>\n      <td>19,453,561</td>\n      <td>1,731.910</td>\n      <td>122,284</td>\n      <td>412</td>\n    </tr>\n    <tr>\n      <th>7</th>\n      <td>Sources:[14] and see individual borough articl...</td>\n      <td>NaN</td>\n      <td>NaN</td>\n      <td>NaN</td>\n      <td>NaN</td>\n    </tr>\n  </tbody>\n</table>\n</div>"
                    },
                    "metadata": {}
                }
            ]
        },
        {
            "metadata": {},
            "cell_type": "markdown",
            "source": "#### Replace newline('\\n') from each string from left and right sides"
        },
        {
            "metadata": {},
            "cell_type": "code",
            "source": "Pop_data['Borough']=Pop_data['Borough'].replace(to_replace='\\n', value='', regex=True)\nPop_data['County']=Pop_data['County'].replace(to_replace='\\n', value='', regex=True)\nPop_data['Estimate_2019']=Pop_data['Estimate_2019'].replace(to_replace='\\n', value='', regex=True)\nPop_data['square_mi']=Pop_data['square_mi'].replace(to_replace='\\n', value='', regex=True)\nPop_data['persons_sq_mi']=Pop_data['persons_sq_mi'].replace(to_replace='\\n', value='', regex=True)\nPop_data",
            "execution_count": 31,
            "outputs": [
                {
                    "output_type": "execute_result",
                    "execution_count": 31,
                    "data": {
                        "text/plain": "                                            Borough       County  \\\n0                                         The Bronx        Bronx   \n1                                          Brooklyn        Kings   \n2                                         Manhattan     New York   \n3                                            Queens       Queens   \n4                                     Staten Island     Richmond   \n5                                  City of New York    8,336,817   \n6                                 State of New York   19,453,561   \n7  Sources:[14] and see individual borough articles          NaN   \n\n  Estimate_2019 square_mi persons_sq_mi  \n0     1,418,207     42.10        109.04  \n1     2,559,903     70.82        183.42  \n2     1,628,706     22.83         59.13  \n3     2,253,858    108.53        281.09  \n4       476,143     58.37        151.18  \n5       842.343    783.83        27,547  \n6     1,731.910   122,284           412  \n7           NaN       NaN           NaN  ",
                        "text/html": "<div>\n<style scoped>\n    .dataframe tbody tr th:only-of-type {\n        vertical-align: middle;\n    }\n\n    .dataframe tbody tr th {\n        vertical-align: top;\n    }\n\n    .dataframe thead th {\n        text-align: right;\n    }\n</style>\n<table border=\"1\" class=\"dataframe\">\n  <thead>\n    <tr style=\"text-align: right;\">\n      <th></th>\n      <th>Borough</th>\n      <th>County</th>\n      <th>Estimate_2019</th>\n      <th>square_mi</th>\n      <th>persons_sq_mi</th>\n    </tr>\n  </thead>\n  <tbody>\n    <tr>\n      <th>0</th>\n      <td>The Bronx</td>\n      <td>Bronx</td>\n      <td>1,418,207</td>\n      <td>42.10</td>\n      <td>109.04</td>\n    </tr>\n    <tr>\n      <th>1</th>\n      <td>Brooklyn</td>\n      <td>Kings</td>\n      <td>2,559,903</td>\n      <td>70.82</td>\n      <td>183.42</td>\n    </tr>\n    <tr>\n      <th>2</th>\n      <td>Manhattan</td>\n      <td>New York</td>\n      <td>1,628,706</td>\n      <td>22.83</td>\n      <td>59.13</td>\n    </tr>\n    <tr>\n      <th>3</th>\n      <td>Queens</td>\n      <td>Queens</td>\n      <td>2,253,858</td>\n      <td>108.53</td>\n      <td>281.09</td>\n    </tr>\n    <tr>\n      <th>4</th>\n      <td>Staten Island</td>\n      <td>Richmond</td>\n      <td>476,143</td>\n      <td>58.37</td>\n      <td>151.18</td>\n    </tr>\n    <tr>\n      <th>5</th>\n      <td>City of New York</td>\n      <td>8,336,817</td>\n      <td>842.343</td>\n      <td>783.83</td>\n      <td>27,547</td>\n    </tr>\n    <tr>\n      <th>6</th>\n      <td>State of New York</td>\n      <td>19,453,561</td>\n      <td>1,731.910</td>\n      <td>122,284</td>\n      <td>412</td>\n    </tr>\n    <tr>\n      <th>7</th>\n      <td>Sources:[14] and see individual borough articles</td>\n      <td>NaN</td>\n      <td>NaN</td>\n      <td>NaN</td>\n      <td>NaN</td>\n    </tr>\n  </tbody>\n</table>\n</div>"
                    },
                    "metadata": {}
                }
            ]
        },
        {
            "metadata": {},
            "cell_type": "markdown",
            "source": "#### Shift data in the last two rows"
        },
        {
            "metadata": {},
            "cell_type": "code",
            "source": "#Pop_data.loc[5:,['persons_sq_mi','persons_sq_km']] = Pop_data.loc[2:,['persons_sq_mi','persons_sq_km']].shift(1,axis=1)\n#Pop_data.loc[5:,['square_mi','persons_sq_mi']] = Pop_data.loc[2:,['square_km','persons_sq_mi']].shift(1,axis=1)\nPop_data.loc[5:,['square_mi','persons_sq_mi']] = Pop_data.loc[2:,['square_mi','persons_sq_mi']].shift(1,axis=1)\nPop_data.loc[5:,['Estimate_2019','square_mi']] = Pop_data.loc[2:,['Estimate_2019','square_mi']].shift(1,axis=1)\nPop_data.loc[5:,['County','Estimate_2019']] = Pop_data.loc[2:,['County','Estimate_2019']].shift(1,axis=1)\nPop_data.loc[5:,['Borough','County']] = Pop_data.loc[2:,['Borough','County']].shift(1,axis=1)\nPop_data",
            "execution_count": 33,
            "outputs": [
                {
                    "output_type": "execute_result",
                    "execution_count": 33,
                    "data": {
                        "text/plain": "         Borough                                            County  \\\n0      The Bronx                                             Bronx   \n1       Brooklyn                                             Kings   \n2      Manhattan                                          New York   \n3         Queens                                            Queens   \n4  Staten Island                                          Richmond   \n5            NaN                                  City of New York   \n6            NaN                                 State of New York   \n7            NaN  Sources:[14] and see individual borough articles   \n\n  Estimate_2019  square_mi persons_sq_mi  \n0     1,418,207      42.10        109.04  \n1     2,559,903      70.82        183.42  \n2     1,628,706      22.83         59.13  \n3     2,253,858     108.53        281.09  \n4       476,143      58.37        151.18  \n5     8,336,817    842.343        783.83  \n6    19,453,561  1,731.910       122,284  \n7           NaN        NaN           NaN  ",
                        "text/html": "<div>\n<style scoped>\n    .dataframe tbody tr th:only-of-type {\n        vertical-align: middle;\n    }\n\n    .dataframe tbody tr th {\n        vertical-align: top;\n    }\n\n    .dataframe thead th {\n        text-align: right;\n    }\n</style>\n<table border=\"1\" class=\"dataframe\">\n  <thead>\n    <tr style=\"text-align: right;\">\n      <th></th>\n      <th>Borough</th>\n      <th>County</th>\n      <th>Estimate_2019</th>\n      <th>square_mi</th>\n      <th>persons_sq_mi</th>\n    </tr>\n  </thead>\n  <tbody>\n    <tr>\n      <th>0</th>\n      <td>The Bronx</td>\n      <td>Bronx</td>\n      <td>1,418,207</td>\n      <td>42.10</td>\n      <td>109.04</td>\n    </tr>\n    <tr>\n      <th>1</th>\n      <td>Brooklyn</td>\n      <td>Kings</td>\n      <td>2,559,903</td>\n      <td>70.82</td>\n      <td>183.42</td>\n    </tr>\n    <tr>\n      <th>2</th>\n      <td>Manhattan</td>\n      <td>New York</td>\n      <td>1,628,706</td>\n      <td>22.83</td>\n      <td>59.13</td>\n    </tr>\n    <tr>\n      <th>3</th>\n      <td>Queens</td>\n      <td>Queens</td>\n      <td>2,253,858</td>\n      <td>108.53</td>\n      <td>281.09</td>\n    </tr>\n    <tr>\n      <th>4</th>\n      <td>Staten Island</td>\n      <td>Richmond</td>\n      <td>476,143</td>\n      <td>58.37</td>\n      <td>151.18</td>\n    </tr>\n    <tr>\n      <th>5</th>\n      <td>NaN</td>\n      <td>City of New York</td>\n      <td>8,336,817</td>\n      <td>842.343</td>\n      <td>783.83</td>\n    </tr>\n    <tr>\n      <th>6</th>\n      <td>NaN</td>\n      <td>State of New York</td>\n      <td>19,453,561</td>\n      <td>1,731.910</td>\n      <td>122,284</td>\n    </tr>\n    <tr>\n      <th>7</th>\n      <td>NaN</td>\n      <td>Sources:[14] and see individual borough articles</td>\n      <td>NaN</td>\n      <td>NaN</td>\n      <td>NaN</td>\n    </tr>\n  </tbody>\n</table>\n</div>"
                    },
                    "metadata": {}
                }
            ]
        },
        {
            "metadata": {},
            "cell_type": "markdown",
            "source": "#### Remove 'NAN'"
        },
        {
            "metadata": {},
            "cell_type": "code",
            "source": "Pop_data = Pop_data.fillna('')\nPop_data",
            "execution_count": 34,
            "outputs": [
                {
                    "output_type": "execute_result",
                    "execution_count": 34,
                    "data": {
                        "text/plain": "         Borough                                            County  \\\n0      The Bronx                                             Bronx   \n1       Brooklyn                                             Kings   \n2      Manhattan                                          New York   \n3         Queens                                            Queens   \n4  Staten Island                                          Richmond   \n5                                                 City of New York   \n6                                                State of New York   \n7                 Sources:[14] and see individual borough articles   \n\n  Estimate_2019  square_mi persons_sq_mi  \n0     1,418,207      42.10        109.04  \n1     2,559,903      70.82        183.42  \n2     1,628,706      22.83         59.13  \n3     2,253,858     108.53        281.09  \n4       476,143      58.37        151.18  \n5     8,336,817    842.343        783.83  \n6    19,453,561  1,731.910       122,284  \n7                                         ",
                        "text/html": "<div>\n<style scoped>\n    .dataframe tbody tr th:only-of-type {\n        vertical-align: middle;\n    }\n\n    .dataframe tbody tr th {\n        vertical-align: top;\n    }\n\n    .dataframe thead th {\n        text-align: right;\n    }\n</style>\n<table border=\"1\" class=\"dataframe\">\n  <thead>\n    <tr style=\"text-align: right;\">\n      <th></th>\n      <th>Borough</th>\n      <th>County</th>\n      <th>Estimate_2019</th>\n      <th>square_mi</th>\n      <th>persons_sq_mi</th>\n    </tr>\n  </thead>\n  <tbody>\n    <tr>\n      <th>0</th>\n      <td>The Bronx</td>\n      <td>Bronx</td>\n      <td>1,418,207</td>\n      <td>42.10</td>\n      <td>109.04</td>\n    </tr>\n    <tr>\n      <th>1</th>\n      <td>Brooklyn</td>\n      <td>Kings</td>\n      <td>2,559,903</td>\n      <td>70.82</td>\n      <td>183.42</td>\n    </tr>\n    <tr>\n      <th>2</th>\n      <td>Manhattan</td>\n      <td>New York</td>\n      <td>1,628,706</td>\n      <td>22.83</td>\n      <td>59.13</td>\n    </tr>\n    <tr>\n      <th>3</th>\n      <td>Queens</td>\n      <td>Queens</td>\n      <td>2,253,858</td>\n      <td>108.53</td>\n      <td>281.09</td>\n    </tr>\n    <tr>\n      <th>4</th>\n      <td>Staten Island</td>\n      <td>Richmond</td>\n      <td>476,143</td>\n      <td>58.37</td>\n      <td>151.18</td>\n    </tr>\n    <tr>\n      <th>5</th>\n      <td></td>\n      <td>City of New York</td>\n      <td>8,336,817</td>\n      <td>842.343</td>\n      <td>783.83</td>\n    </tr>\n    <tr>\n      <th>6</th>\n      <td></td>\n      <td>State of New York</td>\n      <td>19,453,561</td>\n      <td>1,731.910</td>\n      <td>122,284</td>\n    </tr>\n    <tr>\n      <th>7</th>\n      <td></td>\n      <td>Sources:[14] and see individual borough articles</td>\n      <td></td>\n      <td></td>\n      <td></td>\n    </tr>\n  </tbody>\n</table>\n</div>"
                    },
                    "metadata": {}
                }
            ]
        },
        {
            "metadata": {},
            "cell_type": "markdown",
            "source": "#### Drop the last row"
        },
        {
            "metadata": {},
            "cell_type": "code",
            "source": "i = Pop_data[((Pop_data.County == 'Sources:[14] and see individual borough articles'))].index\nPop_data.drop(i)",
            "execution_count": 36,
            "outputs": [
                {
                    "output_type": "execute_result",
                    "execution_count": 36,
                    "data": {
                        "text/plain": "         Borough             County Estimate_2019  square_mi persons_sq_mi\n0      The Bronx              Bronx     1,418,207      42.10        109.04\n1       Brooklyn              Kings     2,559,903      70.82        183.42\n2      Manhattan           New York     1,628,706      22.83         59.13\n3         Queens             Queens     2,253,858     108.53        281.09\n4  Staten Island           Richmond       476,143      58.37        151.18\n5                  City of New York     8,336,817    842.343        783.83\n6                 State of New York    19,453,561  1,731.910       122,284",
                        "text/html": "<div>\n<style scoped>\n    .dataframe tbody tr th:only-of-type {\n        vertical-align: middle;\n    }\n\n    .dataframe tbody tr th {\n        vertical-align: top;\n    }\n\n    .dataframe thead th {\n        text-align: right;\n    }\n</style>\n<table border=\"1\" class=\"dataframe\">\n  <thead>\n    <tr style=\"text-align: right;\">\n      <th></th>\n      <th>Borough</th>\n      <th>County</th>\n      <th>Estimate_2019</th>\n      <th>square_mi</th>\n      <th>persons_sq_mi</th>\n    </tr>\n  </thead>\n  <tbody>\n    <tr>\n      <th>0</th>\n      <td>The Bronx</td>\n      <td>Bronx</td>\n      <td>1,418,207</td>\n      <td>42.10</td>\n      <td>109.04</td>\n    </tr>\n    <tr>\n      <th>1</th>\n      <td>Brooklyn</td>\n      <td>Kings</td>\n      <td>2,559,903</td>\n      <td>70.82</td>\n      <td>183.42</td>\n    </tr>\n    <tr>\n      <th>2</th>\n      <td>Manhattan</td>\n      <td>New York</td>\n      <td>1,628,706</td>\n      <td>22.83</td>\n      <td>59.13</td>\n    </tr>\n    <tr>\n      <th>3</th>\n      <td>Queens</td>\n      <td>Queens</td>\n      <td>2,253,858</td>\n      <td>108.53</td>\n      <td>281.09</td>\n    </tr>\n    <tr>\n      <th>4</th>\n      <td>Staten Island</td>\n      <td>Richmond</td>\n      <td>476,143</td>\n      <td>58.37</td>\n      <td>151.18</td>\n    </tr>\n    <tr>\n      <th>5</th>\n      <td></td>\n      <td>City of New York</td>\n      <td>8,336,817</td>\n      <td>842.343</td>\n      <td>783.83</td>\n    </tr>\n    <tr>\n      <th>6</th>\n      <td></td>\n      <td>State of New York</td>\n      <td>19,453,561</td>\n      <td>1,731.910</td>\n      <td>122,284</td>\n    </tr>\n  </tbody>\n</table>\n</div>"
                    },
                    "metadata": {}
                }
            ]
        },
        {
            "metadata": {},
            "cell_type": "markdown",
            "source": "#### Save dataframe as csv file"
        },
        {
            "metadata": {},
            "cell_type": "code",
            "source": "Pop_data.to_csv('POPULATION.csv',index=False)",
            "execution_count": 37,
            "outputs": []
        },
        {
            "metadata": {},
            "cell_type": "markdown",
            "source": "#### B : DEMOGRAPHICS DATA\n\nWe will web scrap Demographics data from wikipedia page - https://en.wikipedia.org/wiki/New_York_City"
        },
        {
            "metadata": {},
            "cell_type": "markdown",
            "source": "#### Web scrapping of Demographics data from wikipedia page using BeautifulSoup.\n\nBeautiful Soup is a Python package for parsing HTML and XML documents (including having malformed markup, i.e. non-closed tags, so named after tag soup). It creates a parse tree for parsed pages that can be used to extract data from HTML, which is useful for web scraping."
        },
        {
            "metadata": {},
            "cell_type": "code",
            "source": "import folium # plotting library\nfrom bs4 import BeautifulSoup\n\nimport csv\nwebsite_url = requests.get('https://en.wikipedia.org/wiki/New_York_City').text\nsoup = BeautifulSoup(website_url,'lxml')\ntable = soup.find('table',{'class':'wikitable sortable collapsible'})\n#print(soup.prettify())\n\nheaders = [header.text for header in table.find_all('th')]\n\ntable_rows = table.find_all('tr')        \nrows = []\nfor row in table_rows:\n   td = row.find_all('td')\n   row = [row.text for row in td]\n   rows.append(row)\n\nwith open('NYC_DEMO.csv', 'w') as f:\n   writer = csv.writer(f)\n   writer.writerow(headers)\n   writer.writerows(row for row in rows if row)",
            "execution_count": 43,
            "outputs": [
                {
                    "output_type": "error",
                    "ename": "AttributeError",
                    "evalue": "'NoneType' object has no attribute 'find_all'",
                    "traceback": [
                        "\u001b[0;31m---------------------------------------------------------------------------\u001b[0m",
                        "\u001b[0;31mAttributeError\u001b[0m                            Traceback (most recent call last)",
                        "\u001b[0;32m<ipython-input-43-850d46863b62>\u001b[0m in \u001b[0;36m<module>\u001b[0;34m\u001b[0m\n\u001b[1;32m      8\u001b[0m \u001b[0;31m#print(soup.prettify())\u001b[0m\u001b[0;34m\u001b[0m\u001b[0;34m\u001b[0m\u001b[0;34m\u001b[0m\u001b[0m\n\u001b[1;32m      9\u001b[0m \u001b[0;34m\u001b[0m\u001b[0m\n\u001b[0;32m---> 10\u001b[0;31m \u001b[0mheaders\u001b[0m \u001b[0;34m=\u001b[0m \u001b[0;34m[\u001b[0m\u001b[0mheader\u001b[0m\u001b[0;34m.\u001b[0m\u001b[0mtext\u001b[0m \u001b[0;32mfor\u001b[0m \u001b[0mheader\u001b[0m \u001b[0;32min\u001b[0m \u001b[0mtable\u001b[0m\u001b[0;34m.\u001b[0m\u001b[0mfind_all\u001b[0m\u001b[0;34m(\u001b[0m\u001b[0;34m'th'\u001b[0m\u001b[0;34m)\u001b[0m\u001b[0;34m]\u001b[0m\u001b[0;34m\u001b[0m\u001b[0;34m\u001b[0m\u001b[0m\n\u001b[0m\u001b[1;32m     11\u001b[0m \u001b[0;34m\u001b[0m\u001b[0m\n\u001b[1;32m     12\u001b[0m \u001b[0mtable_rows\u001b[0m \u001b[0;34m=\u001b[0m \u001b[0mtable\u001b[0m\u001b[0;34m.\u001b[0m\u001b[0mfind_all\u001b[0m\u001b[0;34m(\u001b[0m\u001b[0;34m'tr'\u001b[0m\u001b[0;34m)\u001b[0m\u001b[0;34m\u001b[0m\u001b[0;34m\u001b[0m\u001b[0m\n",
                        "\u001b[0;31mAttributeError\u001b[0m: 'NoneType' object has no attribute 'find_all'"
                    ]
                }
            ]
        },
        {
            "metadata": {},
            "cell_type": "code",
            "source": "",
            "execution_count": null,
            "outputs": []
        }
    ],
    "metadata": {
        "kernelspec": {
            "name": "python3",
            "display_name": "Python 3.6",
            "language": "python"
        },
        "language_info": {
            "name": "python",
            "version": "3.6.9",
            "mimetype": "text/x-python",
            "codemirror_mode": {
                "name": "ipython",
                "version": 3
            },
            "pygments_lexer": "ipython3",
            "nbconvert_exporter": "python",
            "file_extension": ".py"
        }
    },
    "nbformat": 4,
    "nbformat_minor": 1
}